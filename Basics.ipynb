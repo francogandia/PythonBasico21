{
 "metadata": {
  "language_info": {
   "codemirror_mode": {
    "name": "ipython",
    "version": 3
   },
   "file_extension": ".py",
   "mimetype": "text/x-python",
   "name": "python",
   "nbconvert_exporter": "python",
   "pygments_lexer": "ipython3",
   "version": 3
  },
  "orig_nbformat": 4
 },
 "nbformat": 4,
 "nbformat_minor": 2,
 "cells": [
  {
   "source": [
    "# Aprendiendo Python 3 - Nivel Inicial\n",
    "- - - \n",
    "## Temas:\n",
    "* Variables y Tipos de Datos\n",
    "* Números y Operadores Aritmeticos\n",
    "* Operadores y Operaciones\n",
    "* Condicionales (IF-ELFE-ELIF)\n",
    "* Bucles (FOR-WHILE)\n",
    "* Datos con Métodos (Listas-Diccionarios-Strings)\n",
    "* Funciones y Módulos"
   ],
   "cell_type": "markdown",
   "metadata": {}
  },
  {
   "source": [
    "## 1. Variables\n",
    "\n",
    "* Reglas\n",
    "    1. NO se admite ningún símbolo (incluido el espacio) y exceptuando el __\n",
    "    2. Se pueden usar números, pero NO al inicio.\n",
    "    3. Se pueden usar letras mayúsculas y minúsculas, aunque son **case sensitive**. No son iguales\n",
    "* Usos\n",
    "    1. Guardar datos\n",
    "    2. Recuperar/Leer datos\n",
    "    3. Modificar datos (Combinación de Leer, Cambiar y volver a Guardar)\n",
    "* Operador =\n",
    "* Convenciones"
   ],
   "cell_type": "markdown",
   "metadata": {}
  },
  {
   "cell_type": "code",
   "execution_count": null,
   "metadata": {},
   "outputs": [],
   "source": [
    "# Reglas para definir variables:\n",
    "\n",
    "# 1) Símbolos\n",
    "MiNombre = \"Lucas\"      # todo junto si se puede, no contiene simbolos\n",
    "# Mi Nombre = \"Lucas\"   # esta mal porque contiene espacios.\n",
    "Mi_Nombre = \"Lucas\"     # se puede utilizar el __\n",
    "# Mi-Nombre = \"Lucas\"   # recuerden que no se admiten otros símbolos que no sean el __\n",
    "\n",
    "# 2) Números\n",
    "\n",
    "# Usos:"
   ]
  }
 ]
}